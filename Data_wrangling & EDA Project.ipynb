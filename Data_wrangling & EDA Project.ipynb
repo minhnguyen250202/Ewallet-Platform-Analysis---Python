{
  "nbformat": 4,
  "nbformat_minor": 0,
  "metadata": {
    "colab": {
      "provenance": []
    },
    "kernelspec": {
      "name": "python3",
      "display_name": "Python 3"
    },
    "language_info": {
      "name": "python"
    }
  },
  "cells": [
    {
      "cell_type": "code",
      "execution_count": null,
      "metadata": {
        "id": "BJ5p0G0TbHmR"
      },
      "outputs": [],
      "source": [
        "import pandas as pd\n",
        "import numpy as np\n",
        "import os\n",
        "import warnings\n",
        "import seaborn as sns\n",
        "import matplotlib.pyplot as plt\n",
        "warnings.filterwarnings('ignore')"
      ]
    },
    {
      "cell_type": "code",
      "source": [
        "from google.colab import drive\n",
        "drive.mount('/content/drive')\n",
        "\n",
        "path= '/content/drive/MyDrive/DATA | Unigap /PYTHON/PROJECT PYTHON/Project 2'\n",
        "\n"
      ],
      "metadata": {
        "colab": {
          "base_uri": "https://localhost:8080/"
        },
        "id": "PdQywjCEeK2t",
        "outputId": "0e698763-ceb2-48c4-a248-98859b1f95e5"
      },
      "execution_count": null,
      "outputs": [
        {
          "output_type": "stream",
          "name": "stdout",
          "text": [
            "Drive already mounted at /content/drive; to attempt to forcibly remount, call drive.mount(\"/content/drive\", force_remount=True).\n"
          ]
        }
      ]
    },
    {
      "cell_type": "code",
      "source": [
        "payment_report = pd.read_csv(path+'/payment_report.csv')\n",
        "transactions = pd.read_csv(path+'/transactions.csv')\n",
        "product = pd.read_csv(path+'/product.csv')\n",
        "print(payment_report.head())\n",
        "print(transactions.head())\n",
        "print(product.head())"
      ],
      "metadata": {
        "colab": {
          "base_uri": "https://localhost:8080/"
        },
        "id": "pFuFaXqNgEiU",
        "outputId": "674426d6-afb5-429a-8ab9-552bd052b3ab"
      },
      "execution_count": null,
      "outputs": [
        {
          "output_type": "stream",
          "name": "stdout",
          "text": [
            "  report_month payment_group  product_id  source_id     volume\n",
            "0      2023-01       payment          12         45  624110375\n",
            "1      2023-01       payment          17         45  335715113\n",
            "2      2023-01       payment          18         45  737784466\n",
            "3      2023-01       payment          19         45  120963069\n",
            "4      2023-01       payment          20         45  319653158\n",
            "   transaction_id  merchant_id   volume  transType  transStatus   sender_id  \\\n",
            "0      3002692434            5   100000         24            1  10199794.0   \n",
            "1      3002692437          305    20000          2            1  14022211.0   \n",
            "2      3001960110         7255    48605         22            1         NaN   \n",
            "3      3002680710         2270  1500000          2            1  10059206.0   \n",
            "4      3002680713         2275    90000          2            1  10004711.0   \n",
            "\n",
            "   receiver_id extra_info      timeStamp  \n",
            "0     199794.0        NaN  1682932054455  \n",
            "1   14022211.0        NaN  1682932054912  \n",
            "2   10530940.0        NaN  1682932055000  \n",
            "3      59206.0        NaN  1682932055622  \n",
            "4       4711.0        NaN  1682932056197  \n",
            "   product_id category team_own\n",
            "0          17  PXXXXXB      ASD\n",
            "1          18  PXXXXXB      ASD\n",
            "2          20  PXXXXXB      ASD\n",
            "3         287  PXXXXXB      ASD\n",
            "4         372  PXXXXXB      ASD\n"
          ]
        }
      ]
    },
    {
      "cell_type": "markdown",
      "source": [
        "**EDA**\n",
        "\n",
        "Check each column: missing data? duplicates? incorrect data types?\n",
        "\n",
        "Summarize numerical data: any incorrect values?\n"
      ],
      "metadata": {
        "id": "rh0shA9vjKR2"
      }
    },
    {
      "cell_type": "code",
      "source": [
        "#Merge payment_report.csv with product.csv\n",
        "payment_enriched=payment_report.merge(product, on='product_id', how='left')\n",
        "#Kiểm tra dữ liệu tổng quan\n",
        "payment_enriched.info()\n",
        "transactions.info()"
      ],
      "metadata": {
        "colab": {
          "base_uri": "https://localhost:8080/"
        },
        "id": "KO7968MAjMOz",
        "outputId": "5ba5479b-d81b-4f02-f846-0cfe5bdcfceb"
      },
      "execution_count": null,
      "outputs": [
        {
          "output_type": "stream",
          "name": "stdout",
          "text": [
            "<class 'pandas.core.frame.DataFrame'>\n",
            "RangeIndex: 919 entries, 0 to 918\n",
            "Data columns (total 7 columns):\n",
            " #   Column         Non-Null Count  Dtype \n",
            "---  ------         --------------  ----- \n",
            " 0   report_month   919 non-null    object\n",
            " 1   payment_group  919 non-null    object\n",
            " 2   product_id     919 non-null    int64 \n",
            " 3   source_id      919 non-null    int64 \n",
            " 4   volume         919 non-null    int64 \n",
            " 5   category       897 non-null    object\n",
            " 6   team_own       897 non-null    object\n",
            "dtypes: int64(3), object(4)\n",
            "memory usage: 50.4+ KB\n",
            "<class 'pandas.core.frame.DataFrame'>\n",
            "RangeIndex: 1324002 entries, 0 to 1324001\n",
            "Data columns (total 9 columns):\n",
            " #   Column          Non-Null Count    Dtype  \n",
            "---  ------          --------------    -----  \n",
            " 0   transaction_id  1324002 non-null  int64  \n",
            " 1   merchant_id     1324002 non-null  int64  \n",
            " 2   volume          1324002 non-null  int64  \n",
            " 3   transType       1324002 non-null  int64  \n",
            " 4   transStatus     1324002 non-null  int64  \n",
            " 5   sender_id       1274943 non-null  float64\n",
            " 6   receiver_id     1159207 non-null  float64\n",
            " 7   extra_info      6095 non-null     object \n",
            " 8   timeStamp       1324002 non-null  int64  \n",
            "dtypes: float64(2), int64(6), object(1)\n",
            "memory usage: 90.9+ MB\n"
          ]
        }
      ]
    },
    {
      "cell_type": "markdown",
      "source": [
        "Nhận xét:\n",
        "Payment_enriched\n",
        "\n",
        "1.Category và Team_own có 22 null rows ->  có thể thay thế bằng \"Unknown\"\n",
        "2. Các kiểu dữ liệu có vẻ hợp lý\n",
        "\n",
        "Transactions\n",
        "1. sender_id có 49059 null rows (~3.7%) -> ignore\n",
        "2. receiver_id có 164,795 null rows (12.4%)-> ignore\n",
        "3. extra_info hầu hết bị thiếu gía trị -> Hành động: xoá nguyên column extra_info\n",
        "4. Dữ liệu của timeStamp đang có định dạng int64-> Hành động: nên đưa về định dạng thời gian\n",
        "5. sender_id, receiver đang có định dang float64 -> Hành động: nên đưa về định dạng int64"
      ],
      "metadata": {
        "id": "ioJltw8WnNsZ"
      }
    },
    {
      "cell_type": "code",
      "source": [
        "#Kiểm tra chính xác dữ liệu null\n",
        "print(payment_enriched.isnull().sum())\n",
        "print(transactions.isnull().sum())"
      ],
      "metadata": {
        "colab": {
          "base_uri": "https://localhost:8080/"
        },
        "id": "RTJfrv1cqMNE",
        "outputId": "4ab5a483-48bf-48d6-972e-3703d66c1816"
      },
      "execution_count": null,
      "outputs": [
        {
          "output_type": "stream",
          "name": "stdout",
          "text": [
            "report_month      0\n",
            "payment_group     0\n",
            "product_id        0\n",
            "source_id         0\n",
            "volume            0\n",
            "category         22\n",
            "team_own         22\n",
            "dtype: int64\n",
            "transaction_id          0\n",
            "merchant_id             0\n",
            "volume                  0\n",
            "transType               0\n",
            "transStatus             0\n",
            "sender_id           49059\n",
            "receiver_id        164795\n",
            "extra_info        1317907\n",
            "timeStamp               0\n",
            "dtype: int64\n"
          ]
        }
      ]
    },
    {
      "cell_type": "code",
      "source": [
        "#Kiểm tra dữ liệu trùng lặp\n",
        "duplicates_payment = payment_enriched.duplicated().sum()\n",
        "duplicates_transactions = transactions.duplicated().sum()\n",
        "print('Số lượng dòng bị duplicate trong payment_enrich là:' + str(duplicates_payment))\n",
        "print('Số lượng dòng bị duplicate trong transactions là:'+ str(duplicates_transactions))"
      ],
      "metadata": {
        "colab": {
          "base_uri": "https://localhost:8080/"
        },
        "id": "7xp0QI-PrQaY",
        "outputId": "53bc788a-b912-4a4a-ed89-333ba2225ec8"
      },
      "execution_count": null,
      "outputs": [
        {
          "output_type": "stream",
          "name": "stdout",
          "text": [
            "Số lượng dòng bị duplicate trong payment_enrich là:0\n",
            "Số lượng dòng bị duplicate trong transactions là:28\n"
          ]
        }
      ]
    },
    {
      "cell_type": "markdown",
      "source": [
        "Nhận xét:\n",
        "Xoá 28 dòng bị duplicate trong bảng transactions"
      ],
      "metadata": {
        "id": "nqBjQFhOsVHD"
      }
    },
    {
      "cell_type": "code",
      "source": [
        "#Kiểm tra giá trị không hợp lệ\n",
        "invalid_values_payment = (payment_enriched[\"volume\"] < 0).sum()\n",
        "invalid_values_transactions = (transactions[\"volume\"] < 0).sum()\n",
        "print(invalid_values_payment)\n",
        "print(invalid_values_transactions)"
      ],
      "metadata": {
        "colab": {
          "base_uri": "https://localhost:8080/"
        },
        "id": "CtpTP5FgxVr5",
        "outputId": "37021a7a-3057-48d0-b270-ba3bb11f759e"
      },
      "execution_count": null,
      "outputs": [
        {
          "output_type": "stream",
          "name": "stdout",
          "text": [
            "0\n",
            "0\n"
          ]
        }
      ]
    },
    {
      "cell_type": "markdown",
      "source": [
        "Nhận xét: Không có giá trị nào không hợp lệ"
      ],
      "metadata": {
        "id": "aEoPImBaioJ6"
      }
    },
    {
      "cell_type": "markdown",
      "source": [
        "# Part II: Data Wrangling\n"
      ],
      "metadata": {
        "id": "uNeauDFt0V55"
      }
    },
    {
      "cell_type": "code",
      "source": [
        "#Câu 1:Top 3 product_ids with the highest volume.\n",
        "payment_enriched.groupby(\"product_id\")[\"volume\"].sum().sort_values(ascending=False).head(3)"
      ],
      "metadata": {
        "colab": {
          "base_uri": "https://localhost:8080/",
          "height": 210
        },
        "id": "ZPcUa1530gCq",
        "outputId": "8697a9a3-162b-43b3-ccae-9a10c558e4bb"
      },
      "execution_count": null,
      "outputs": [
        {
          "output_type": "execute_result",
          "data": {
            "text/plain": [
              "product_id\n",
              "1976    61797583647\n",
              "429     14667676567\n",
              "372     13713658515\n",
              "Name: volume, dtype: int64"
            ],
            "text/html": [
              "<div>\n",
              "<style scoped>\n",
              "    .dataframe tbody tr th:only-of-type {\n",
              "        vertical-align: middle;\n",
              "    }\n",
              "\n",
              "    .dataframe tbody tr th {\n",
              "        vertical-align: top;\n",
              "    }\n",
              "\n",
              "    .dataframe thead th {\n",
              "        text-align: right;\n",
              "    }\n",
              "</style>\n",
              "<table border=\"1\" class=\"dataframe\">\n",
              "  <thead>\n",
              "    <tr style=\"text-align: right;\">\n",
              "      <th></th>\n",
              "      <th>volume</th>\n",
              "    </tr>\n",
              "    <tr>\n",
              "      <th>product_id</th>\n",
              "      <th></th>\n",
              "    </tr>\n",
              "  </thead>\n",
              "  <tbody>\n",
              "    <tr>\n",
              "      <th>1976</th>\n",
              "      <td>61797583647</td>\n",
              "    </tr>\n",
              "    <tr>\n",
              "      <th>429</th>\n",
              "      <td>14667676567</td>\n",
              "    </tr>\n",
              "    <tr>\n",
              "      <th>372</th>\n",
              "      <td>13713658515</td>\n",
              "    </tr>\n",
              "  </tbody>\n",
              "</table>\n",
              "</div><br><label><b>dtype:</b> int64</label>"
            ]
          },
          "metadata": {},
          "execution_count": 43
        }
      ]
    },
    {
      "cell_type": "code",
      "source": [
        "#Câu 2: Given that 1 product_id is only owed by 1 team, are there any abnormal products against this rule?\n",
        "product_team_count = payment_enriched.groupby('product_id')['team_own'].nunique()\n",
        "abnormal_products=product_team_count[product_team_count>1].sum()\n",
        "print(abnormal_products)"
      ],
      "metadata": {
        "colab": {
          "base_uri": "https://localhost:8080/"
        },
        "id": "pwWZkfCCOJ4T",
        "outputId": "a5ac98b4-4251-4097-c51d-dfbd72519870"
      },
      "execution_count": null,
      "outputs": [
        {
          "output_type": "stream",
          "name": "stdout",
          "text": [
            "0\n"
          ]
        }
      ]
    },
    {
      "cell_type": "markdown",
      "source": [
        "Câu 2: Không có sản phẩm nào vi phạm quy tắc mỗi sản phẩm chỉ thuộc 1 team"
      ],
      "metadata": {
        "id": "FVu05lhcQFgS"
      }
    },
    {
      "cell_type": "code",
      "source": [
        "#Câu 3:Find the team has had the lowest performance (lowest volume) since Q2.2023. Find the category that contributes the least to that team.\n",
        "\n",
        "#Chọn các đơn hàng từ Quý 2 năm 2023 (Tháng 4 năm 2023)\n",
        "payment_q2_2023 = payment_enriched[payment_enriched['report_month']>='2023-04']\n",
        "#Tìm team có lowest performance\n",
        "team_lowest_performance = payment_enriched.groupby('team_own')['volume'].sum().sort_values(ascending=True).head(1)\n",
        "\n",
        "print(team_lowest_performance)"
      ],
      "metadata": {
        "colab": {
          "base_uri": "https://localhost:8080/"
        },
        "id": "fl7qjLg9QSqp",
        "outputId": "72851ca8-1fbb-49cd-b541-cfda0cb319f0"
      },
      "execution_count": null,
      "outputs": [
        {
          "output_type": "stream",
          "name": "stdout",
          "text": [
            "team_own\n",
            "APS    272891202\n",
            "Name: volume, dtype: int64\n"
          ]
        }
      ]
    },
    {
      "cell_type": "code",
      "source": [
        "#Tìm category đóng góp ít nhất trong team đó\n",
        "category_lowest_performance = payment_q2_2023[payment_q2_2023['team_own']=='APS'].groupby('category')['volume'].sum().sort_values(ascending=True).head(1)\n",
        "print(team_lowest_performance)\n",
        "print(category_lowest_performance)"
      ],
      "metadata": {
        "colab": {
          "base_uri": "https://localhost:8080/"
        },
        "id": "PeLOb4PvkIVy",
        "outputId": "fba176e5-7ec2-4210-c10e-413276ef4b64"
      },
      "execution_count": null,
      "outputs": [
        {
          "output_type": "stream",
          "name": "stdout",
          "text": [
            "team_own\n",
            "APS    272891202\n",
            "Name: volume, dtype: int64\n",
            "category\n",
            "PXXXXXE    25232438\n",
            "Name: volume, dtype: int64\n"
          ]
        }
      ]
    },
    {
      "cell_type": "markdown",
      "source": [
        "Câu 3:\n",
        "Team \"APS\" có hiệu suất thấp nhất.\n",
        "Category đóng góp ít nhất cho team APS: \"PXXXXXE\""
      ],
      "metadata": {
        "id": "PP8gl7anUHW7"
      }
    },
    {
      "cell_type": "code",
      "source": [
        "#Câu 4: Find the contribution of source_ids of refund transactions (payment_group = ‘refund’), what is the source_id with the highest contribution?\n",
        "refund_contribution= payment_enriched[payment_enriched['payment_group']=='refund'].groupby('source_id')['volume'].sum()\n",
        "top_highest_refund_contribution= refund_contribution.idxmax()\n",
        "print(top_highest_refund_contribution)"
      ],
      "metadata": {
        "colab": {
          "base_uri": "https://localhost:8080/"
        },
        "id": "K8CgyIe9UKJt",
        "outputId": "8b9ced9f-fb6c-485f-cc59-570015f260e0"
      },
      "execution_count": null,
      "outputs": [
        {
          "output_type": "stream",
          "name": "stdout",
          "text": [
            "38\n"
          ]
        }
      ]
    },
    {
      "cell_type": "markdown",
      "source": [
        "Câu 4: Source_id có đóng góp cao nhất trong refund transactions là 38"
      ],
      "metadata": {
        "id": "9gPZic0nV4u2"
      }
    },
    {
      "cell_type": "markdown",
      "source": [
        "# Using transactions.csv\n",
        "Câu 5: Define type of transactions (‘transaction_type’) for each row, given:\n",
        "- transType = 2 & merchant_id = 1205: Bank Transfer Transaction\n",
        "- transType = 2 & merchant_id = 2260: Withdraw Money Transaction\n",
        "- transType = 2 & merchant_id = 2270: Top Up Money Transaction\n",
        "- transType = 2 & others merchant_id: Payment Transaction\n",
        "- transType = 8, `merchant_id` = 2250: Transfer Money Transaction\n",
        "- transType = 8 & others merchant_id: Split Bill Transaction\n",
        "- Remained cases are invalid transactions\n"
      ],
      "metadata": {
        "id": "eAKIG7e9WNr9"
      }
    },
    {
      "cell_type": "code",
      "source": [
        "#Xác định mỗi loại giao dịch\n",
        "def classify_transaction(row):\n",
        "  if row['transType'] == 2:\n",
        "    if row['merchant_id'] == 1205:\n",
        "      return \"Bank Transfer Transaction\"\n",
        "    elif row['merchant_id'] == 2269:\n",
        "      return \"Withdraw Money Transaction\"\n",
        "    elif row['merchant_id'] == 2270:\n",
        "      return \"Top Up Money Transaction\"\n",
        "    else:\n",
        "      return \" Payment Transaction\"\n",
        "  elif row['transType'] == 8:\n",
        "    if row['merchant_id'] ==2250:\n",
        "      return \"Transfer Money Transaction\"\n",
        "    else:\n",
        "      return \"Split Bill Transaction\"\n",
        "  else:\n",
        "    return \"Invalid Transaction\"\n",
        "\n",
        "# Áp dụng phân loại giao dịch\n",
        "transactions[\"transaction_type\"] = transactions.apply(classify_transaction, axis=1)\n"
      ],
      "metadata": {
        "id": "XHXRvszXWG4Y"
      },
      "execution_count": null,
      "outputs": []
    },
    {
      "cell_type": "code",
      "source": [
        "# Câu 6: Of each transaction type (excluding invalid transactions): find the number of transactions, volume, senders and receivers.\n",
        "#Loại bỏ giao dịch Invalid\n",
        "valid_transactions = transactions[transactions[\"transaction_type\"] != \"Invalid Transaction\"]\n",
        "#Tính số giao dịch, tổng volume, senders và receivers\n",
        "transaction_summary= valid_transactions.groupby('transaction_type').agg(\n",
        "          transaction_count =('transaction_id','count'),\n",
        "          volume = ('volume','sum'),\n",
        "          unique_senders = ('sender_id','nunique'),\n",
        "          unique_receivers = ('receiver_id','nunique')\n",
        ").reset_index()\n",
        "\n",
        "transaction_summary.head()\n"
      ],
      "metadata": {
        "colab": {
          "base_uri": "https://localhost:8080/",
          "height": 206
        },
        "id": "YCM4Qbvuaj6z",
        "outputId": "05175a1a-927f-417c-a2b0-1ddf1824e628"
      },
      "execution_count": null,
      "outputs": [
        {
          "output_type": "execute_result",
          "data": {
            "text/plain": [
              "             transaction_type  transaction_count        volume  \\\n",
              "0         Payment Transaction             432402   95269696601   \n",
              "1   Bank Transfer Transaction              37879   50605806190   \n",
              "2      Split Bill Transaction               1376       4901464   \n",
              "3    Top Up Money Transaction             290502  108606478829   \n",
              "4  Transfer Money Transaction             341177   37033171492   \n",
              "\n",
              "   unique_senders  unique_receivers  \n",
              "0          147670            124846  \n",
              "1           23156              9271  \n",
              "2            1323               572  \n",
              "3          110409            110409  \n",
              "4           39021             34585  "
            ],
            "text/html": [
              "\n",
              "  <div id=\"df-566a31e4-1a89-4769-88c1-207c6a168b7f\" class=\"colab-df-container\">\n",
              "    <div>\n",
              "<style scoped>\n",
              "    .dataframe tbody tr th:only-of-type {\n",
              "        vertical-align: middle;\n",
              "    }\n",
              "\n",
              "    .dataframe tbody tr th {\n",
              "        vertical-align: top;\n",
              "    }\n",
              "\n",
              "    .dataframe thead th {\n",
              "        text-align: right;\n",
              "    }\n",
              "</style>\n",
              "<table border=\"1\" class=\"dataframe\">\n",
              "  <thead>\n",
              "    <tr style=\"text-align: right;\">\n",
              "      <th></th>\n",
              "      <th>transaction_type</th>\n",
              "      <th>transaction_count</th>\n",
              "      <th>volume</th>\n",
              "      <th>unique_senders</th>\n",
              "      <th>unique_receivers</th>\n",
              "    </tr>\n",
              "  </thead>\n",
              "  <tbody>\n",
              "    <tr>\n",
              "      <th>0</th>\n",
              "      <td>Payment Transaction</td>\n",
              "      <td>432402</td>\n",
              "      <td>95269696601</td>\n",
              "      <td>147670</td>\n",
              "      <td>124846</td>\n",
              "    </tr>\n",
              "    <tr>\n",
              "      <th>1</th>\n",
              "      <td>Bank Transfer Transaction</td>\n",
              "      <td>37879</td>\n",
              "      <td>50605806190</td>\n",
              "      <td>23156</td>\n",
              "      <td>9271</td>\n",
              "    </tr>\n",
              "    <tr>\n",
              "      <th>2</th>\n",
              "      <td>Split Bill Transaction</td>\n",
              "      <td>1376</td>\n",
              "      <td>4901464</td>\n",
              "      <td>1323</td>\n",
              "      <td>572</td>\n",
              "    </tr>\n",
              "    <tr>\n",
              "      <th>3</th>\n",
              "      <td>Top Up Money Transaction</td>\n",
              "      <td>290502</td>\n",
              "      <td>108606478829</td>\n",
              "      <td>110409</td>\n",
              "      <td>110409</td>\n",
              "    </tr>\n",
              "    <tr>\n",
              "      <th>4</th>\n",
              "      <td>Transfer Money Transaction</td>\n",
              "      <td>341177</td>\n",
              "      <td>37033171492</td>\n",
              "      <td>39021</td>\n",
              "      <td>34585</td>\n",
              "    </tr>\n",
              "  </tbody>\n",
              "</table>\n",
              "</div>\n",
              "    <div class=\"colab-df-buttons\">\n",
              "\n",
              "  <div class=\"colab-df-container\">\n",
              "    <button class=\"colab-df-convert\" onclick=\"convertToInteractive('df-566a31e4-1a89-4769-88c1-207c6a168b7f')\"\n",
              "            title=\"Convert this dataframe to an interactive table.\"\n",
              "            style=\"display:none;\">\n",
              "\n",
              "  <svg xmlns=\"http://www.w3.org/2000/svg\" height=\"24px\" viewBox=\"0 -960 960 960\">\n",
              "    <path d=\"M120-120v-720h720v720H120Zm60-500h600v-160H180v160Zm220 220h160v-160H400v160Zm0 220h160v-160H400v160ZM180-400h160v-160H180v160Zm440 0h160v-160H620v160ZM180-180h160v-160H180v160Zm440 0h160v-160H620v160Z\"/>\n",
              "  </svg>\n",
              "    </button>\n",
              "\n",
              "  <style>\n",
              "    .colab-df-container {\n",
              "      display:flex;\n",
              "      gap: 12px;\n",
              "    }\n",
              "\n",
              "    .colab-df-convert {\n",
              "      background-color: #E8F0FE;\n",
              "      border: none;\n",
              "      border-radius: 50%;\n",
              "      cursor: pointer;\n",
              "      display: none;\n",
              "      fill: #1967D2;\n",
              "      height: 32px;\n",
              "      padding: 0 0 0 0;\n",
              "      width: 32px;\n",
              "    }\n",
              "\n",
              "    .colab-df-convert:hover {\n",
              "      background-color: #E2EBFA;\n",
              "      box-shadow: 0px 1px 2px rgba(60, 64, 67, 0.3), 0px 1px 3px 1px rgba(60, 64, 67, 0.15);\n",
              "      fill: #174EA6;\n",
              "    }\n",
              "\n",
              "    .colab-df-buttons div {\n",
              "      margin-bottom: 4px;\n",
              "    }\n",
              "\n",
              "    [theme=dark] .colab-df-convert {\n",
              "      background-color: #3B4455;\n",
              "      fill: #D2E3FC;\n",
              "    }\n",
              "\n",
              "    [theme=dark] .colab-df-convert:hover {\n",
              "      background-color: #434B5C;\n",
              "      box-shadow: 0px 1px 3px 1px rgba(0, 0, 0, 0.15);\n",
              "      filter: drop-shadow(0px 1px 2px rgba(0, 0, 0, 0.3));\n",
              "      fill: #FFFFFF;\n",
              "    }\n",
              "  </style>\n",
              "\n",
              "    <script>\n",
              "      const buttonEl =\n",
              "        document.querySelector('#df-566a31e4-1a89-4769-88c1-207c6a168b7f button.colab-df-convert');\n",
              "      buttonEl.style.display =\n",
              "        google.colab.kernel.accessAllowed ? 'block' : 'none';\n",
              "\n",
              "      async function convertToInteractive(key) {\n",
              "        const element = document.querySelector('#df-566a31e4-1a89-4769-88c1-207c6a168b7f');\n",
              "        const dataTable =\n",
              "          await google.colab.kernel.invokeFunction('convertToInteractive',\n",
              "                                                    [key], {});\n",
              "        if (!dataTable) return;\n",
              "\n",
              "        const docLinkHtml = 'Like what you see? Visit the ' +\n",
              "          '<a target=\"_blank\" href=https://colab.research.google.com/notebooks/data_table.ipynb>data table notebook</a>'\n",
              "          + ' to learn more about interactive tables.';\n",
              "        element.innerHTML = '';\n",
              "        dataTable['output_type'] = 'display_data';\n",
              "        await google.colab.output.renderOutput(dataTable, element);\n",
              "        const docLink = document.createElement('div');\n",
              "        docLink.innerHTML = docLinkHtml;\n",
              "        element.appendChild(docLink);\n",
              "      }\n",
              "    </script>\n",
              "  </div>\n",
              "\n",
              "\n",
              "<div id=\"df-0d12fe36-71f5-4aaa-9f90-ffbe725a1fa7\">\n",
              "  <button class=\"colab-df-quickchart\" onclick=\"quickchart('df-0d12fe36-71f5-4aaa-9f90-ffbe725a1fa7')\"\n",
              "            title=\"Suggest charts\"\n",
              "            style=\"display:none;\">\n",
              "\n",
              "<svg xmlns=\"http://www.w3.org/2000/svg\" height=\"24px\"viewBox=\"0 0 24 24\"\n",
              "     width=\"24px\">\n",
              "    <g>\n",
              "        <path d=\"M19 3H5c-1.1 0-2 .9-2 2v14c0 1.1.9 2 2 2h14c1.1 0 2-.9 2-2V5c0-1.1-.9-2-2-2zM9 17H7v-7h2v7zm4 0h-2V7h2v10zm4 0h-2v-4h2v4z\"/>\n",
              "    </g>\n",
              "</svg>\n",
              "  </button>\n",
              "\n",
              "<style>\n",
              "  .colab-df-quickchart {\n",
              "      --bg-color: #E8F0FE;\n",
              "      --fill-color: #1967D2;\n",
              "      --hover-bg-color: #E2EBFA;\n",
              "      --hover-fill-color: #174EA6;\n",
              "      --disabled-fill-color: #AAA;\n",
              "      --disabled-bg-color: #DDD;\n",
              "  }\n",
              "\n",
              "  [theme=dark] .colab-df-quickchart {\n",
              "      --bg-color: #3B4455;\n",
              "      --fill-color: #D2E3FC;\n",
              "      --hover-bg-color: #434B5C;\n",
              "      --hover-fill-color: #FFFFFF;\n",
              "      --disabled-bg-color: #3B4455;\n",
              "      --disabled-fill-color: #666;\n",
              "  }\n",
              "\n",
              "  .colab-df-quickchart {\n",
              "    background-color: var(--bg-color);\n",
              "    border: none;\n",
              "    border-radius: 50%;\n",
              "    cursor: pointer;\n",
              "    display: none;\n",
              "    fill: var(--fill-color);\n",
              "    height: 32px;\n",
              "    padding: 0;\n",
              "    width: 32px;\n",
              "  }\n",
              "\n",
              "  .colab-df-quickchart:hover {\n",
              "    background-color: var(--hover-bg-color);\n",
              "    box-shadow: 0 1px 2px rgba(60, 64, 67, 0.3), 0 1px 3px 1px rgba(60, 64, 67, 0.15);\n",
              "    fill: var(--button-hover-fill-color);\n",
              "  }\n",
              "\n",
              "  .colab-df-quickchart-complete:disabled,\n",
              "  .colab-df-quickchart-complete:disabled:hover {\n",
              "    background-color: var(--disabled-bg-color);\n",
              "    fill: var(--disabled-fill-color);\n",
              "    box-shadow: none;\n",
              "  }\n",
              "\n",
              "  .colab-df-spinner {\n",
              "    border: 2px solid var(--fill-color);\n",
              "    border-color: transparent;\n",
              "    border-bottom-color: var(--fill-color);\n",
              "    animation:\n",
              "      spin 1s steps(1) infinite;\n",
              "  }\n",
              "\n",
              "  @keyframes spin {\n",
              "    0% {\n",
              "      border-color: transparent;\n",
              "      border-bottom-color: var(--fill-color);\n",
              "      border-left-color: var(--fill-color);\n",
              "    }\n",
              "    20% {\n",
              "      border-color: transparent;\n",
              "      border-left-color: var(--fill-color);\n",
              "      border-top-color: var(--fill-color);\n",
              "    }\n",
              "    30% {\n",
              "      border-color: transparent;\n",
              "      border-left-color: var(--fill-color);\n",
              "      border-top-color: var(--fill-color);\n",
              "      border-right-color: var(--fill-color);\n",
              "    }\n",
              "    40% {\n",
              "      border-color: transparent;\n",
              "      border-right-color: var(--fill-color);\n",
              "      border-top-color: var(--fill-color);\n",
              "    }\n",
              "    60% {\n",
              "      border-color: transparent;\n",
              "      border-right-color: var(--fill-color);\n",
              "    }\n",
              "    80% {\n",
              "      border-color: transparent;\n",
              "      border-right-color: var(--fill-color);\n",
              "      border-bottom-color: var(--fill-color);\n",
              "    }\n",
              "    90% {\n",
              "      border-color: transparent;\n",
              "      border-bottom-color: var(--fill-color);\n",
              "    }\n",
              "  }\n",
              "</style>\n",
              "\n",
              "  <script>\n",
              "    async function quickchart(key) {\n",
              "      const quickchartButtonEl =\n",
              "        document.querySelector('#' + key + ' button');\n",
              "      quickchartButtonEl.disabled = true;  // To prevent multiple clicks.\n",
              "      quickchartButtonEl.classList.add('colab-df-spinner');\n",
              "      try {\n",
              "        const charts = await google.colab.kernel.invokeFunction(\n",
              "            'suggestCharts', [key], {});\n",
              "      } catch (error) {\n",
              "        console.error('Error during call to suggestCharts:', error);\n",
              "      }\n",
              "      quickchartButtonEl.classList.remove('colab-df-spinner');\n",
              "      quickchartButtonEl.classList.add('colab-df-quickchart-complete');\n",
              "    }\n",
              "    (() => {\n",
              "      let quickchartButtonEl =\n",
              "        document.querySelector('#df-0d12fe36-71f5-4aaa-9f90-ffbe725a1fa7 button');\n",
              "      quickchartButtonEl.style.display =\n",
              "        google.colab.kernel.accessAllowed ? 'block' : 'none';\n",
              "    })();\n",
              "  </script>\n",
              "</div>\n",
              "\n",
              "    </div>\n",
              "  </div>\n"
            ],
            "application/vnd.google.colaboratory.intrinsic+json": {
              "type": "dataframe",
              "variable_name": "transaction_summary",
              "summary": "{\n  \"name\": \"transaction_summary\",\n  \"rows\": 5,\n  \"fields\": [\n    {\n      \"column\": \"transaction_type\",\n      \"properties\": {\n        \"dtype\": \"string\",\n        \"num_unique_values\": 5,\n        \"samples\": [\n          \"Bank Transfer Transaction\",\n          \"Transfer Money Transaction\",\n          \"Split Bill Transaction\"\n        ],\n        \"semantic_type\": \"\",\n        \"description\": \"\"\n      }\n    },\n    {\n      \"column\": \"transaction_count\",\n      \"properties\": {\n        \"dtype\": \"number\",\n        \"std\": 190873,\n        \"min\": 1376,\n        \"max\": 432402,\n        \"num_unique_values\": 5,\n        \"samples\": [\n          37879,\n          341177,\n          1376\n        ],\n        \"semantic_type\": \"\",\n        \"description\": \"\"\n      }\n    },\n    {\n      \"column\": \"volume\",\n      \"properties\": {\n        \"dtype\": \"number\",\n        \"std\": 44179455986,\n        \"min\": 4901464,\n        \"max\": 108606478829,\n        \"num_unique_values\": 5,\n        \"samples\": [\n          50605806190,\n          37033171492,\n          4901464\n        ],\n        \"semantic_type\": \"\",\n        \"description\": \"\"\n      }\n    },\n    {\n      \"column\": \"unique_senders\",\n      \"properties\": {\n        \"dtype\": \"number\",\n        \"std\": 61997,\n        \"min\": 1323,\n        \"max\": 147670,\n        \"num_unique_values\": 5,\n        \"samples\": [\n          23156,\n          39021,\n          1323\n        ],\n        \"semantic_type\": \"\",\n        \"description\": \"\"\n      }\n    },\n    {\n      \"column\": \"unique_receivers\",\n      \"properties\": {\n        \"dtype\": \"number\",\n        \"std\": 57910,\n        \"min\": 572,\n        \"max\": 124846,\n        \"num_unique_values\": 5,\n        \"samples\": [\n          9271,\n          34585,\n          572\n        ],\n        \"semantic_type\": \"\",\n        \"description\": \"\"\n      }\n    }\n  ]\n}"
            }
          },
          "metadata": {},
          "execution_count": 43
        }
      ]
    }
  ]
}